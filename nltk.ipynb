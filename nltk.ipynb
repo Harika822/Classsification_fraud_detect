{
  "nbformat": 4,
  "nbformat_minor": 0,
  "metadata": {
    "colab": {
      "name": "nltk.ipynb",
      "provenance": [],
      "collapsed_sections": [],
      "include_colab_link": true
    },
    "kernelspec": {
      "name": "python3",
      "display_name": "Python 3"
    }
  },
  "cells": [
    {
      "cell_type": "markdown",
      "metadata": {
        "id": "view-in-github",
        "colab_type": "text"
      },
      "source": [
        "<a href=\"https://colab.research.google.com/github/Harika822/Classsification_fraud_detect/blob/master/nltk.ipynb\" target=\"_parent\"><img src=\"https://colab.research.google.com/assets/colab-badge.svg\" alt=\"Open In Colab\"/></a>"
      ]
    },
    {
      "cell_type": "code",
      "metadata": {
        "id": "hPFEsoMWIwul",
        "colab_type": "code",
        "outputId": "cffbc8d3-71ba-430a-ba84-73adf562c084",
        "colab": {
          "base_uri": "https://localhost:8080/",
          "height": 191
        }
      },
      "source": [
        "import nltk\n",
        "nltk.download('punkt')\n",
        "nltk.download('stopwords')\n",
        "nltk.download('wordnet')\n",
        "nltk.download('averaged_perceptron_tagger')\n",
        "import seaborn as sns"
      ],
      "execution_count": 0,
      "outputs": [
        {
          "output_type": "stream",
          "text": [
            "[nltk_data] Downloading package punkt to /root/nltk_data...\n",
            "[nltk_data]   Package punkt is already up-to-date!\n",
            "[nltk_data] Downloading package stopwords to /root/nltk_data...\n",
            "[nltk_data]   Package stopwords is already up-to-date!\n",
            "[nltk_data] Downloading package wordnet to /root/nltk_data...\n",
            "[nltk_data]   Package wordnet is already up-to-date!\n",
            "[nltk_data] Downloading package averaged_perceptron_tagger to\n",
            "[nltk_data]     /root/nltk_data...\n",
            "[nltk_data]   Package averaged_perceptron_tagger is already up-to-\n",
            "[nltk_data]       date!\n"
          ],
          "name": "stdout"
        }
      ]
    },
    {
      "cell_type": "code",
      "metadata": {
        "id": "mmOoNF_YJzKQ",
        "colab_type": "code",
        "outputId": "8c334f2f-8303-48db-cadc-4e3598a55e04",
        "colab": {
          "base_uri": "https://localhost:8080/",
          "height": 52
        }
      },
      "source": [
        "from nltk.tokenize import sent_tokenize\n",
        "story= 'india is a country with natural resources and skilled population. india is a sub-continent with huge population and culture of india is greatly knowly to the world'\n",
        "tokenized_story= sent_tokenize(story)\n",
        "#given story is tokenized into"
      ],
      "execution_count": 0,
      "outputs": [
        {
          "output_type": "execute_result",
          "data": {
            "text/plain": [
              "['india is a country with natural resources and skilled population.',\n",
              " 'india is a sub-continent with huge population and culture of india is greatly knowly to the world.the word is connected and connecting']"
            ]
          },
          "metadata": {
            "tags": []
          },
          "execution_count": 97
        }
      ]
    },
    {
      "cell_type": "code",
      "metadata": {
        "id": "way0ap9ZKoqH",
        "colab_type": "code",
        "outputId": "7c292e52-ceab-426a-a748-a1e27ed8051c",
        "colab": {
          "base_uri": "https://localhost:8080/",
          "height": 589
        }
      },
      "source": [
        "#word tokenization\n",
        "from nltk.tokenize import word_tokenize\n",
        "tokenized_word=word_tokenize(story)\n",
        "tokenized_word"
      ],
      "execution_count": 0,
      "outputs": [
        {
          "output_type": "execute_result",
          "data": {
            "text/plain": [
              "['india',\n",
              " 'is',\n",
              " 'a',\n",
              " 'country',\n",
              " 'with',\n",
              " 'natural',\n",
              " 'resources',\n",
              " 'and',\n",
              " 'skilled',\n",
              " 'population',\n",
              " '.',\n",
              " 'india',\n",
              " 'is',\n",
              " 'a',\n",
              " 'sub-continent',\n",
              " 'with',\n",
              " 'huge',\n",
              " 'population',\n",
              " 'and',\n",
              " 'culture',\n",
              " 'of',\n",
              " 'india',\n",
              " 'is',\n",
              " 'greatly',\n",
              " 'knowly',\n",
              " 'to',\n",
              " 'the',\n",
              " 'world.the',\n",
              " 'word',\n",
              " 'is',\n",
              " 'connected',\n",
              " 'and',\n",
              " 'connecting']"
            ]
          },
          "metadata": {
            "tags": []
          },
          "execution_count": 98
        }
      ]
    },
    {
      "cell_type": "code",
      "metadata": {
        "id": "ObicambBK55k",
        "colab_type": "code",
        "outputId": "e8fb4843-ca6a-4222-9539-47ebfbedc0d4",
        "colab": {
          "base_uri": "https://localhost:8080/",
          "height": 35
        }
      },
      "source": [
        "from nltk.probability import FreqDist\n",
        "freq=FreqDist(tokenized_word)\n",
        "print(freq)"
      ],
      "execution_count": 0,
      "outputs": [
        {
          "output_type": "stream",
          "text": [
            "<FreqDist with 23 samples and 33 outcomes>\n"
          ],
          "name": "stdout"
        }
      ]
    },
    {
      "cell_type": "code",
      "metadata": {
        "id": "OMxh163uLIVY",
        "colab_type": "code",
        "outputId": "6812fc31-27b2-45fc-82b3-4c3096473510",
        "colab": {
          "base_uri": "https://localhost:8080/",
          "height": 416
        }
      },
      "source": [
        "freq.most_common()"
      ],
      "execution_count": 0,
      "outputs": [
        {
          "output_type": "execute_result",
          "data": {
            "text/plain": [
              "[('is', 4),\n",
              " ('india', 3),\n",
              " ('and', 3),\n",
              " ('a', 2),\n",
              " ('with', 2),\n",
              " ('population', 2),\n",
              " ('country', 1),\n",
              " ('natural', 1),\n",
              " ('resources', 1),\n",
              " ('skilled', 1),\n",
              " ('.', 1),\n",
              " ('sub-continent', 1),\n",
              " ('huge', 1),\n",
              " ('culture', 1),\n",
              " ('of', 1),\n",
              " ('greatly', 1),\n",
              " ('knowly', 1),\n",
              " ('to', 1),\n",
              " ('the', 1),\n",
              " ('world.the', 1),\n",
              " ('word', 1),\n",
              " ('connected', 1),\n",
              " ('connecting', 1)]"
            ]
          },
          "metadata": {
            "tags": []
          },
          "execution_count": 100
        }
      ]
    },
    {
      "cell_type": "code",
      "metadata": {
        "id": "8FDU1lpELLaL",
        "colab_type": "code",
        "outputId": "4a2b901d-ec26-4025-fe80-908d68930789",
        "colab": {
          "base_uri": "https://localhost:8080/",
          "height": 338
        }
      },
      "source": [
        "import matplotlib.pyplot as plt\n",
        "freq.plot(30,cumulative=False)\n",
        "plt.show()"
      ],
      "execution_count": 0,
      "outputs": [
        {
          "output_type": "display_data",
          "data": {
            "image/png": "[encoded data removed]",
            "text/plain": [
              "<Figure size 432x288 with 1 Axes>"
            ]
          },
          "metadata": {
            "tags": []
          }
        }
      ]
    },
    {
      "cell_type": "code",
      "metadata": {
        "id": "e35D36McLfav",
        "colab_type": "code",
        "outputId": "c2f15a0f-51c5-4b05-ad10-a87fe31a933f",
        "colab": {
          "base_uri": "https://localhost:8080/",
          "height": 55
        }
      },
      "source": [
        "from nltk.corpus import stopwords\n",
        "stop_words=set(stopwords.words('english'))\n",
        "print(stop_words)"
      ],
      "execution_count": 0,
      "outputs": [
        {
          "output_type": "stream",
          "text": [
            "{'as', 'd', 'this', 'him', 'am', \"doesn't\", 'who', 'does', 'such', 'been', \"couldn't\", 'whom', 'off', 'that', 'once', \"isn't\", 'in', 'ours', 'his', 'during', 'further', 'all', 'o', 'just', \"aren't\", 'he', 'haven', 'mustn', \"it's\", 'any', 'about', 'nor', 'now', 'shouldn', \"you'll\", 'were', 'most', 'if', 'll', 'then', 'ourselves', \"hadn't\", \"weren't\", 'm', 've', 'aren', 'yourselves', 'is', 'of', \"hasn't\", 'these', 'those', 'my', 'here', \"don't\", 'so', 'at', 'couldn', 'theirs', 'himself', 'not', 'had', 'only', \"mustn't\", 'are', 'did', 'or', 'do', 'below', 'won', \"wouldn't\", 'shan', 'herself', 'and', 'they', 'it', 'she', 's', \"won't\", \"shouldn't\", 'needn', 'the', 'ma', 'you', 'will', 'what', 'until', 'but', 'its', 'y', 'weren', 'which', 're', 'didn', 'own', 'have', 'after', 'themselves', 'on', 'under', 'each', 't', 'through', 'itself', 'has', 'before', 'don', 'mightn', 'can', \"should've\", 'same', 'their', 'hadn', 'there', 'ain', 'by', 'your', 'a', 'against', 'other', 'yourself', \"mightn't\", 'down', 'no', \"shan't\", 'wouldn', 'out', 'too', 'how', 'some', 'where', 'having', \"haven't\", \"that'll\", \"she's\", \"needn't\", 'was', \"you've\", 'myself', 'we', \"you'd\", 'yours', 'while', 'wasn', 'up', 'our', 'when', 'more', 'isn', 'from', 'her', 'why', 'over', 'very', 'above', 'to', 'few', 'me', 'again', 'i', 'an', 'be', 'because', 'with', 'doesn', 'between', \"wasn't\", 'for', 'than', 'into', 'both', 'should', 'hers', \"didn't\", 'doing', 'them', 'being', \"you're\", 'hasn'}\n"
          ],
          "name": "stdout"
        }
      ]
    },
    {
      "cell_type": "code",
      "metadata": {
        "id": "vqpWXOGrLz0n",
        "colab_type": "code",
        "colab": {}
      },
      "source": [
        "filter_words=[]\n",
        "for w in tokenized_word:\n",
        "   if w not in stop_words:\n",
        "    filter_words.append(w)"
      ],
      "execution_count": 0,
      "outputs": []
    },
    {
      "cell_type": "code",
      "metadata": {
        "id": "3IxET9LtMGXK",
        "colab_type": "code",
        "outputId": "8baf57c5-b461-4ead-949d-f7844b179c68",
        "colab": {
          "base_uri": "https://localhost:8080/",
          "height": 72
        }
      },
      "source": [
        " print('tokenized sentences:',tokenized_story)\n",
        " print('filtered sentence:',filter_words)\n",
        "   "
      ],
      "execution_count": 0,
      "outputs": [
        {
          "output_type": "stream",
          "text": [
            "tokenized sentences: ['india is a country with natural resources and skilled population.', 'india is a sub-continent with huge population and culture of india is greatly knowly to the world.the word is connected and connecting']\n",
            "filtered sentence: ['india', 'country', 'natural', 'resources', 'skilled', 'population', '.', 'india', 'sub-continent', 'huge', 'population', 'culture', 'india', 'greatly', 'knowly', 'world.the', 'word', 'connected', 'connecting']\n"
          ],
          "name": "stdout"
        }
      ]
    },
    {
      "cell_type": "code",
      "metadata": {
        "id": "Mo02vWaHOpOn",
        "colab_type": "code",
        "colab": {}
      },
      "source": [
        "from nltk.stem import PorterStemmer\n"
      ],
      "execution_count": 0,
      "outputs": []
    },
    {
      "cell_type": "code",
      "metadata": {
        "id": "zOIb--NiOuqx",
        "colab_type": "code",
        "outputId": "dbda8b9c-ff30-4f49-b724-612e98ffc0ca",
        "colab": {
          "base_uri": "https://localhost:8080/",
          "height": 72
        }
      },
      "source": [
        "ps=PorterStemmer()\n",
        "stemword=[]\n",
        "for w in filter_words:\n",
        "  stemword.append(ps.stem(w))\n",
        "print('filtered sentence:',filter_words)\n",
        "print('stemmed sentence:',stemword)  "
      ],
      "execution_count": 0,
      "outputs": [
        {
          "output_type": "stream",
          "text": [
            "filtered sentence: ['india', 'country', 'natural', 'resources', 'skilled', 'population', '.', 'india', 'sub-continent', 'huge', 'population', 'culture', 'india', 'greatly', 'knowly', 'world.the', 'word', 'connected', 'connecting']\n",
            "stemmed sentence: ['india', 'countri', 'natur', 'resourc', 'skill', 'popul', '.', 'india', 'sub-contin', 'huge', 'popul', 'cultur', 'india', 'greatli', 'knowli', 'world.th', 'word', 'connect', 'connect']\n"
          ],
          "name": "stdout"
        }
      ]
    },
    {
      "cell_type": "code",
      "metadata": {
        "id": "sygmq7hTPNkR",
        "colab_type": "code",
        "colab": {}
      },
      "source": [
        "from nltk.stem.wordnet import  WordNetLemmatizer\n",
        "lemma=WordNetLemmatizer()"
      ],
      "execution_count": 0,
      "outputs": []
    },
    {
      "cell_type": "code",
      "metadata": {
        "id": "JpoZsi8iPftu",
        "colab_type": "code",
        "outputId": "8c19dcde-6562-4a1c-e97b-855bf84e7e62",
        "colab": {
          "base_uri": "https://localhost:8080/",
          "height": 87
        }
      },
      "source": [
        "nltk.download('wordnet')\n",
        "from nltk.stem.porter import PorterStemmer\n",
        "stem=PorterStemmer()\n",
        "word='natural'\n",
        "print('lemmatized word:',lemma.lemmatize(word,'v'))\n",
        "print('stemmed words:',stem.stem(word))"
      ],
      "execution_count": 0,
      "outputs": [
        {
          "output_type": "stream",
          "text": [
            "[nltk_data] Downloading package wordnet to /root/nltk_data...\n",
            "[nltk_data]   Package wordnet is already up-to-date!\n",
            "lemmatized word: natural\n",
            "stemmed words: natur\n"
          ],
          "name": "stdout"
        }
      ]
    },
    {
      "cell_type": "code",
      "metadata": {
        "id": "y9zCV6LCQBZa",
        "colab_type": "code",
        "outputId": "9cca85ef-4ff2-4329-d988-1eb7a4fc1993",
        "colab": {
          "base_uri": "https://localhost:8080/",
          "height": 35
        }
      },
      "source": [
        "#pos\n",
        "\n",
        "rewards='india is best cricket team in the world.virat kohli is indian captain'\n",
        "tokens=nltk.word_tokenize(rewards)\n",
        "print(tokens)"
      ],
      "execution_count": 0,
      "outputs": [
        {
          "output_type": "stream",
          "text": [
            "['india', 'is', 'best', 'cricket', 'team', 'in', 'the', 'world.virat', 'kohli', 'is', 'indian', 'captain']\n"
          ],
          "name": "stdout"
        }
      ]
    },
    {
      "cell_type": "code",
      "metadata": {
        "id": "_uDmjaxVQbjw",
        "colab_type": "code",
        "outputId": "ab6a10f9-9ca7-406f-c1a0-44f36302417a",
        "colab": {
          "base_uri": "https://localhost:8080/",
          "height": 295
        }
      },
      "source": [
        "nltk.download('wordnet')\n",
        "import nltk\n",
        "nltk.download('average_perceptron_tagger')\n",
        "nltk.pos_tag(tokens)"
      ],
      "execution_count": 0,
      "outputs": [
        {
          "output_type": "stream",
          "text": [
            "[nltk_data] Downloading package wordnet to /root/nltk_data...\n",
            "[nltk_data]   Package wordnet is already up-to-date!\n",
            "[nltk_data] Error loading average_perceptron_tagger: Package\n",
            "[nltk_data]     'average_perceptron_tagger' not found in index\n"
          ],
          "name": "stdout"
        },
        {
          "output_type": "execute_result",
          "data": {
            "text/plain": [
              "[('india', 'NN'),\n",
              " ('is', 'VBZ'),\n",
              " ('best', 'RBS'),\n",
              " ('cricket', 'NN'),\n",
              " ('team', 'NN'),\n",
              " ('in', 'IN'),\n",
              " ('the', 'DT'),\n",
              " ('world.virat', 'NN'),\n",
              " ('kohli', 'NN'),\n",
              " ('is', 'VBZ'),\n",
              " ('indian', 'JJ'),\n",
              " ('captain', 'NN')]"
            ]
          },
          "metadata": {
            "tags": []
          },
          "execution_count": 110
        }
      ]
    },
    {
      "cell_type": "code",
      "metadata": {
        "id": "jaeWO58bQiJy",
        "colab_type": "code",
        "colab": {}
      },
      "source": [
        "#sentiment analysis using movie review\n",
        "import pandas as pd\n",
        "import matplotlib.pyplot as plt\n"
      ],
      "execution_count": 0,
      "outputs": []
    },
    {
      "cell_type": "code",
      "metadata": {
        "id": "OExhUQ76Vctc",
        "colab_type": "code",
        "outputId": "ba5d5814-e6f6-4af2-f60e-d4ff8303fca6",
        "colab": {
          "base_uri": "https://localhost:8080/",
          "height": 141
        }
      },
      "source": [
        "sdata=pd.read_csv('movie.tsv',delimiter='\\t')\n",
        "sdata.head(3)"
      ],
      "execution_count": 0,
      "outputs": [
        {
          "output_type": "execute_result",
          "data": {
            "text/html": [
              "<div>\n",
              "<style scoped>\n",
              "    .dataframe tbody tr th:only-of-type {\n",
              "        vertical-align: middle;\n",
              "    }\n",
              "\n",
              "    .dataframe tbody tr th {\n",
              "        vertical-align: top;\n",
              "    }\n",
              "\n",
              "    .dataframe thead th {\n",
              "        text-align: right;\n",
              "    }\n",
              "</style>\n",
              "<table border=\"1\" class=\"dataframe\">\n",
              "  <thead>\n",
              "    <tr style=\"text-align: right;\">\n",
              "      <th></th>\n",
              "      <th>PhraseId</th>\n",
              "      <th>SentenceId</th>\n",
              "      <th>Phrase</th>\n",
              "      <th>Sentiment</th>\n",
              "    </tr>\n",
              "  </thead>\n",
              "  <tbody>\n",
              "    <tr>\n",
              "      <th>0</th>\n",
              "      <td>1</td>\n",
              "      <td>1</td>\n",
              "      <td>A series of escapades demonstrating the adage ...</td>\n",
              "      <td>1</td>\n",
              "    </tr>\n",
              "    <tr>\n",
              "      <th>1</th>\n",
              "      <td>2</td>\n",
              "      <td>1</td>\n",
              "      <td>A series of escapades demonstrating the adage ...</td>\n",
              "      <td>2</td>\n",
              "    </tr>\n",
              "    <tr>\n",
              "      <th>2</th>\n",
              "      <td>3</td>\n",
              "      <td>1</td>\n",
              "      <td>A series</td>\n",
              "      <td>2</td>\n",
              "    </tr>\n",
              "  </tbody>\n",
              "</table>\n",
              "</div>"
            ],
            "text/plain": [
              "   PhraseId  ...  Sentiment\n",
              "0         1  ...          1\n",
              "1         2  ...          2\n",
              "2         3  ...          2\n",
              "\n",
              "[3 rows x 4 columns]"
            ]
          },
          "metadata": {
            "tags": []
          },
          "execution_count": 112
        }
      ]
    },
    {
      "cell_type": "code",
      "metadata": {
        "id": "R6M58EWcVshg",
        "colab_type": "code",
        "outputId": "00c8936c-e279-4b9d-8419-eeef15a07c9e",
        "colab": {
          "base_uri": "https://localhost:8080/",
          "height": 173
        }
      },
      "source": [
        "sdata.info()"
      ],
      "execution_count": 0,
      "outputs": [
        {
          "output_type": "stream",
          "text": [
            "<class 'pandas.core.frame.DataFrame'>\n",
            "RangeIndex: 156060 entries, 0 to 156059\n",
            "Data columns (total 4 columns):\n",
            "PhraseId      156060 non-null int64\n",
            "SentenceId    156060 non-null int64\n",
            "Phrase        156060 non-null object\n",
            "Sentiment     156060 non-null int64\n",
            "dtypes: int64(3), object(1)\n",
            "memory usage: 4.8+ MB\n"
          ],
          "name": "stdout"
        }
      ]
    },
    {
      "cell_type": "code",
      "metadata": {
        "id": "sOC0xi3kVub0",
        "colab_type": "code",
        "outputId": "259fc530-4a88-44d9-e018-240a28d238bf",
        "colab": {
          "base_uri": "https://localhost:8080/",
          "height": 121
        }
      },
      "source": [
        "sdata.Sentiment.value_counts()"
      ],
      "execution_count": 0,
      "outputs": [
        {
          "output_type": "execute_result",
          "data": {
            "text/plain": [
              "2    79582\n",
              "3    32927\n",
              "1    27273\n",
              "4     9206\n",
              "0     7072\n",
              "Name: Sentiment, dtype: int64"
            ]
          },
          "metadata": {
            "tags": []
          },
          "execution_count": 114
        }
      ]
    },
    {
      "cell_type": "code",
      "metadata": {
        "id": "JH_Y3jwHV5Lq",
        "colab_type": "code",
        "outputId": "7a13fb45-c3f2-4138-ddfd-a80c35ef048a",
        "colab": {
          "base_uri": "https://localhost:8080/",
          "height": 233
        }
      },
      "source": [
        "sentiment_count=sdata.groupby('Sentiment').count()\n",
        "sentiment_count"
      ],
      "execution_count": 0,
      "outputs": [
        {
          "output_type": "execute_result",
          "data": {
            "text/html": [
              "<div>\n",
              "<style scoped>\n",
              "    .dataframe tbody tr th:only-of-type {\n",
              "        vertical-align: middle;\n",
              "    }\n",
              "\n",
              "    .dataframe tbody tr th {\n",
              "        vertical-align: top;\n",
              "    }\n",
              "\n",
              "    .dataframe thead th {\n",
              "        text-align: right;\n",
              "    }\n",
              "</style>\n",
              "<table border=\"1\" class=\"dataframe\">\n",
              "  <thead>\n",
              "    <tr style=\"text-align: right;\">\n",
              "      <th></th>\n",
              "      <th>PhraseId</th>\n",
              "      <th>SentenceId</th>\n",
              "      <th>Phrase</th>\n",
              "    </tr>\n",
              "    <tr>\n",
              "      <th>Sentiment</th>\n",
              "      <th></th>\n",
              "      <th></th>\n",
              "      <th></th>\n",
              "    </tr>\n",
              "  </thead>\n",
              "  <tbody>\n",
              "    <tr>\n",
              "      <th>0</th>\n",
              "      <td>7072</td>\n",
              "      <td>7072</td>\n",
              "      <td>7072</td>\n",
              "    </tr>\n",
              "    <tr>\n",
              "      <th>1</th>\n",
              "      <td>27273</td>\n",
              "      <td>27273</td>\n",
              "      <td>27273</td>\n",
              "    </tr>\n",
              "    <tr>\n",
              "      <th>2</th>\n",
              "      <td>79582</td>\n",
              "      <td>79582</td>\n",
              "      <td>79582</td>\n",
              "    </tr>\n",
              "    <tr>\n",
              "      <th>3</th>\n",
              "      <td>32927</td>\n",
              "      <td>32927</td>\n",
              "      <td>32927</td>\n",
              "    </tr>\n",
              "    <tr>\n",
              "      <th>4</th>\n",
              "      <td>9206</td>\n",
              "      <td>9206</td>\n",
              "      <td>9206</td>\n",
              "    </tr>\n",
              "  </tbody>\n",
              "</table>\n",
              "</div>"
            ],
            "text/plain": [
              "           PhraseId  SentenceId  Phrase\n",
              "Sentiment                              \n",
              "0              7072        7072    7072\n",
              "1             27273       27273   27273\n",
              "2             79582       79582   79582\n",
              "3             32927       32927   32927\n",
              "4              9206        9206    9206"
            ]
          },
          "metadata": {
            "tags": []
          },
          "execution_count": 115
        }
      ]
    },
    {
      "cell_type": "code",
      "metadata": {
        "id": "O687PT0aWH4p",
        "colab_type": "code",
        "outputId": "a4df8171-90bb-46b7-8ee4-cd998b971bfd",
        "colab": {
          "base_uri": "https://localhost:8080/",
          "height": 279
        }
      },
      "source": [
        "plt.bar(sentiment_count.index.values,sentiment_count['Phrase'])\n",
        "plt.xlabel('review sentiments')\n",
        "plt.ylabel('no.of reviews')\n",
        "plt.show()"
      ],
      "execution_count": 0,
      "outputs": [
        {
          "output_type": "display_data",
          "data": {
            "image/png": "[encoded data removed]",
            "text/plain": [
              "<Figure size 432x288 with 1 Axes>"
            ]
          },
          "metadata": {
            "tags": []
          }
        }
      ]
    },
    {
      "cell_type": "code",
      "metadata": {
        "id": "WBokHLkkWcXX",
        "colab_type": "code",
        "colab": {}
      },
      "source": [
        "#feature generation usiing bag of words\n",
        "from sklearn.feature_extraction.text import CountVectorizer\n",
        "from nltk.tokenize import RegexpTokenizer"
      ],
      "execution_count": 0,
      "outputs": []
    },
    {
      "cell_type": "code",
      "metadata": {
        "id": "UNy-8FiqWufg",
        "colab_type": "code",
        "colab": {}
      },
      "source": [
        "token=RegexpTokenizer(r'[a-zA-Z0-9]+')\n",
        "cv=CountVectorizer(lowercase=True,stop_words='english',ngram_range=(1,1),tokenizer=token.tokenize)\n",
        "text_counts=cv.fit_transform(sdata['Phrase'])"
      ],
      "execution_count": 0,
      "outputs": []
    },
    {
      "cell_type": "code",
      "metadata": {
        "id": "7aKe9324XULV",
        "colab_type": "code",
        "colab": {}
      },
      "source": [
        "#split train and test data\n",
        "from sklearn.model_selection import train_test_split\n",
        "x_train,x_test,y_train,y_test=train_test_split(text_counts,sdata['Sentiment'],test_size=0.3,random_state=1)"
      ],
      "execution_count": 0,
      "outputs": []
    },
    {
      "cell_type": "code",
      "metadata": {
        "id": "gC4QNjqEXysw",
        "colab_type": "code",
        "outputId": "6a375ea4-60a5-49b3-cd2b-d0ffbc744248",
        "colab": {
          "base_uri": "https://localhost:8080/",
          "height": 35
        }
      },
      "source": [
        "#model building and evaluation\n",
        "from sklearn.naive_bayes import MultinomialNB\n",
        "from sklearn import metrics\n",
        "#multinominalnb is used for multinominal models i.e eg word count for classification\n",
        "clf=MultinomialNB().fit(x_train,y_train)\n",
        "pred=clf.predict(x_test)\n",
        "print('multinomialNB accuracy:',metrics.accuracy_score(y_test,pred))"
      ],
      "execution_count": 0,
      "outputs": [
        {
          "output_type": "stream",
          "text": [
            "multinomialNB accuracy: 0.6049169122986885\n"
          ],
          "name": "stdout"
        }
      ]
    }
  ]
}